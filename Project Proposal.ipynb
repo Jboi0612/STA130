{
 "cells": [
  {
   "cell_type": "markdown",
   "id": "3a6defa4",
   "metadata": {},
   "source": [
    "# 1"
   ]
  },
  {
   "cell_type": "markdown",
   "id": "c54fad29",
   "metadata": {},
   "source": [
    "Research Question: Is there a relation between being an employed student and a reported change in hours worked during 2021 due to Covid-19?"
   ]
  },
  {
   "cell_type": "markdown",
   "id": "8c96ce8b",
   "metadata": {},
   "source": [
    "Variables: \n",
    "Independent: DEMO_student\n",
    "Dependent: WORK_employement_impact_increased_hours, WORK_employment_impact_decreased_hours, WORK_employment_impact_no_change\n",
    "\n",
    "The Covid pandemic had wide spread effect on employment and the workspace. This anaylsis aims to find if students were treated differently than those who were not currently enrolled. This follows CSCS goals of inclusivity."
   ]
  },
  {
   "cell_type": "markdown",
   "id": "b53be03c",
   "metadata": {},
   "source": [
    "Visualisations: A bar chart will be used to visualise and compare the students who reported an increase, decrease and no change. The bar chart can easily compare the differences across the categories and are easy to understand for the audience. "
   ]
  },
  {
   "cell_type": "markdown",
   "id": "0e9232d1",
   "metadata": {},
   "source": [
    "Analysis: Using data from the 2021 study, a chi-squared test will work here as it compares two categorical variables. "
   ]
  },
  {
   "cell_type": "markdown",
   "id": "f5659dcc",
   "metadata": {},
   "source": [
    "Assumptions : The sample size is large enough to use the chi-squared test, independent observations."
   ]
  },
  {
   "cell_type": "markdown",
   "id": "4c7325ac",
   "metadata": {},
   "source": [
    "Hypothesis 1:\n",
    "Null Hypothesis: There is no relation between being a student and a change in hours worked.\n",
    "\n",
    "Alternative Hypothesis: There is a relation between being a student and a change in hours worked."
   ]
  },
  {
   "cell_type": "markdown",
   "id": "db90fd7b",
   "metadata": {},
   "source": [
    "Possible Outcomes 1: \n",
    "No significant relation found: p value is greater than 0.05 therefore the null hypothesis would not be rejected. There is no relation between being a student and a change in hours.\n",
    "\n",
    "Significant relation found: p value is less than 0.05 therefore the null hypothesis would be rejected. There is a relation between being a student and a change in hours."
   ]
  },
  {
   "cell_type": "markdown",
   "id": "4cbe126f",
   "metadata": {},
   "source": [
    "# 2 "
   ]
  },
  {
   "cell_type": "markdown",
   "id": "694dbed3",
   "metadata": {},
   "source": [
    "Research Question: How satisfied are indigenous peoples in Canada with their lives during 2021?"
   ]
  },
  {
   "cell_type": "markdown",
   "id": "0bac35c0",
   "metadata": {},
   "source": [
    "Variables: GEO_residence_canada \n",
    "Independent: DEMO_identity_indigenous\n",
    "Dependent: WELLNESS_life_satisfaction\n",
    "\n",
    "Canada has a history of mistreatment towards the Indigneous peoples. This anaylsis aims to find whether Indigenous people in Canada experienced different levels of life satisfaction during the COVID-19 pandemic in 2021 compared to non-Indigenous populations, aligning with the CSCS goals of inclusivity. \n"
   ]
  },
  {
   "cell_type": "markdown",
   "id": "445f67ab",
   "metadata": {},
   "source": [
    "Visualisations: A box plot would be used here to show the bootstrapped distribution of the sample and show outliers."
   ]
  },
  {
   "cell_type": "markdown",
   "id": "8c7f37e2",
   "metadata": {},
   "source": [
    "Analysis: In this analysis, double bootstrapping would be used to bootstrap the different samples then to compare the mean differences. A 95% confidence interval would be constructed based on the bootstrapped mean differences."
   ]
  },
  {
   "cell_type": "markdown",
   "id": "34d4fa75",
   "metadata": {},
   "source": [
    "Assumptions: The sample sizes is large enough to bootstrap both samples, independent observations."
   ]
  },
  {
   "cell_type": "markdown",
   "id": "5399e28a",
   "metadata": {},
   "source": [
    "Hypothesis:\n",
    "Null Hypothesis: There is no differences in reported wellness between indigenous and non-indigenous peoples during 2021.\n",
    "\n",
    "Alternative Hypothesis: There is a difference in reported wellness between indigenous and non-indigenous peoples during 2021."
   ]
  },
  {
   "cell_type": "markdown",
   "id": "f5341723",
   "metadata": {},
   "source": [
    "Possible Outcomes: \n",
    "The confidence interval includes zero: Fail to reject the null hypothesis, there is no difference in wellness between indigenous and non-indigenous peoples during 2021.\n",
    "\n",
    "The confidence interval excludes zero: Reject the null hypothesis, there is a difference in wellness between indigenous and non-indigenous peoples during 2021."
   ]
  },
  {
   "cell_type": "markdown",
   "id": "e3a062f2",
   "metadata": {},
   "source": [
    "#  3"
   ]
  },
  {
   "cell_type": "markdown",
   "id": "8e53af64",
   "metadata": {},
   "source": [
    "Research Question: Does being tall affect the ability to make eye contact with others in 2023?"
   ]
  },
  {
   "cell_type": "markdown",
   "id": "4c6494ce",
   "metadata": {},
   "source": [
    "Variables:\n",
    "Independant: DEMO_height\n",
    "Dependant: PSYCH_social_interactions_anxiety_scale_eye_contact\n",
    "\n",
    "Height changes the level the head is making the natural place to look for person to person harder. The lack of eye contact could leave some people feeling excluded from conserations which do not follow CSCS values."
   ]
  },
  {
   "cell_type": "markdown",
   "id": "e4960fc8",
   "metadata": {},
   "source": [
    "Visualisations: Scatter Plot with residual line to show the relationship between height and the ability to make eye contact."
   ]
  },
  {
   "cell_type": "markdown",
   "id": "06b3100b",
   "metadata": {},
   "source": [
    "Analysis: In this analysis, simple linear regression would be best as it shows a continuous scale between the predictor variable and outcome variable."
   ]
  },
  {
   "cell_type": "markdown",
   "id": "80e49adb",
   "metadata": {},
   "source": [
    "Assumptions: Linearity, normality of residuals, homoscedastic and observations are independent."
   ]
  },
  {
   "cell_type": "markdown",
   "id": "edfe1f57",
   "metadata": {},
   "source": [
    "Hypothesis: \n",
    "Null Hypothesis: Being tall does not affect the ability to make eye contact with others.\n",
    "\n",
    "Alternative Hypothesis: Being tall affects the ability to make eye contact with others."
   ]
  },
  {
   "cell_type": "markdown",
   "id": "81885d2b",
   "metadata": {},
   "source": [
    "Possible Outcomes: \n",
    "No Significant relation found: The p-value for b1 is greater than 0.05  therefore the null hypothesis would not be rejected. There is no relation between being tall and how hard it is to make eye contact with others.\n",
    "\n",
    "Significant relation found: The p-value for b1 is less than 0.05  therefore the null hypothesis would be rejected. There is a relation between being tall and how hard it is to make eye contact with others."
   ]
  },
  {
   "cell_type": "markdown",
   "id": "07ef32c0",
   "metadata": {},
   "source": [
    "If possible I would like to be grouped with Mattias Rose and Juho Jang"
   ]
  }
 ],
 "metadata": {
  "kernelspec": {
   "display_name": "Python 3 (ipykernel)",
   "language": "python",
   "name": "python3"
  },
  "language_info": {
   "codemirror_mode": {
    "name": "ipython",
    "version": 3
   },
   "file_extension": ".py",
   "mimetype": "text/x-python",
   "name": "python",
   "nbconvert_exporter": "python",
   "pygments_lexer": "ipython3",
   "version": "3.11.6"
  }
 },
 "nbformat": 4,
 "nbformat_minor": 5
}
